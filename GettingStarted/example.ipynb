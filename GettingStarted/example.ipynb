{
 "cells": [
  {
   "cell_type": "code",
   "execution_count": 7,
   "metadata": {},
   "outputs": [],
   "source": [
    "#add averaging script paths\n",
    "import sys\n",
    "sys.path.append('../PythonCode/scripts')\n",
    "\n",
    "import fl_algorithms as fla\n",
    "\n",
    "#imports\n",
    "import numpy as np\n",
    "from matplotlib import pyplot as plt\n",
    "from sklearn.manifold import MDS"
   ]
  },
  {
   "cell_type": "code",
   "execution_count": 24,
   "metadata": {},
   "outputs": [],
   "source": [
    "def generate_flag_data_outliers(n_inliers: int, n: int, n_outliers: int, \n",
    "                                flag_type: list, seed: int = 2) -> list:\n",
    "    '''\n",
    "    Generate data on the flag manifold with a percentage of outliers.\n",
    "\n",
    "    Inputs:\n",
    "        n_inliers: number of inliers\n",
    "        n: dimension of ambient space\n",
    "        n_outliers: number of outliers\n",
    "        flag_type: type of flag\n",
    "        seed: reproducibility\n",
    "\n",
    "    Outputs:\n",
    "        list of flags\n",
    "    '''\n",
    "\n",
    "    np.random.seed(seed)\n",
    "\n",
    "    k = flag_type[-1]\n",
    "    center_pt = np.linalg.qr(np.random.rand(n, k)-.5)[0][:,:k]\n",
    "\n",
    "    data = []\n",
    "    for _ in range(n_inliers):\n",
    "        rand_mat = center_pt + 0.1*(np.random.rand(n, k)-.5)\n",
    "        data.append(np.linalg.qr(rand_mat)[0][:,:k])\n",
    "    for _ in range(n_outliers):\n",
    "        rand_mat = center_pt + (np.random.rand(n, k)-.5)\n",
    "        data.append(np.linalg.qr(rand_mat)[0][:,:k])\n",
    "\n",
    "    return data, center_pt\n",
    "\n",
    "def chordal_dist_mat(data: list, flag_type: list) -> np.array:\n",
    "    '''\n",
    "    chordal distance matrix between data\n",
    "\n",
    "    Inputs:\n",
    "        data: a list of flags\n",
    "        flag_type: the type of flags\n",
    "\n",
    "    Output:\n",
    "        distance matrix\n",
    "    \n",
    "    '''\n",
    "\n",
    "    n_pts = len(data)\n",
    "\n",
    "    distances = np.zeros((n_pts, n_pts))\n",
    "    for i in range(n_pts):\n",
    "        for j in range(i+1, n_pts, 1):\n",
    "            distances[i,j] = fla.chordal_dist(data[i], data[j], flag_type = flag_type)\n",
    "            distances[j,i] = distances[i,j].copy()\n",
    "    return distances"
   ]
  },
  {
   "cell_type": "code",
   "execution_count": 25,
   "metadata": {},
   "outputs": [],
   "source": [
    "\n",
    "n = 6 #ambient vector space dimension\n",
    "flag_type = [1,3,5] #type of flag\n",
    "\n",
    "n_its = 10 #number of iterations\n",
    "\n",
    "n_inliers = 20 #number of inlier data points\n",
    "n_outliers = 10 #number of oulier  data points\n",
    "n_pts = n_inliers+n_outliers\n",
    "\n",
    "data, center_pt = generate_flag_data_outliers(n_inliers,\n",
    "                                              n, \n",
    "                                              n_outliers, \n",
    "                                              flag_type,\n",
    "                                              seed = 3)\n",
    "\n",
    "#stack data into n x k x p data matrix\n",
    "stacked_data = np.stack(data, axis = 2)\n",
    "\n",
    "#initial point for averaging algorithm\n",
    "k = flag_type[-1]\n",
    "init_pt = np.eye(n)[:,:k]"
   ]
  },
  {
   "cell_type": "code",
   "execution_count": 26,
   "metadata": {},
   "outputs": [],
   "source": [
    "chordal_flag_mean = fla.flag_mean(stacked_data,  \n",
    "                                  flag_type = flag_type, \n",
    "                                  initial_point = init_pt,\n",
    "                                  return_all = False)\n",
    "\n",
    "chordal_flag_median = fla.flag_median(stacked_data,  \n",
    "                                      flag_type = flag_type, \n",
    "                                      initial_point_median = init_pt) "
   ]
  },
  {
   "cell_type": "code",
   "execution_count": 27,
   "metadata": {},
   "outputs": [
    {
     "name": "stderr",
     "output_type": "stream",
     "text": [
      "/Users/natemankovich/Library/Python/3.8/lib/python/site-packages/sklearn/manifold/_mds.py:299: FutureWarning: The default value of `normalized_stress` will change to `'auto'` in version 1.4. To suppress this warning, manually set the value of `normalized_stress`.\n",
      "  warnings.warn(\n"
     ]
    }
   ],
   "source": [
    "#distance matrix and MDS\n",
    "all_data = data + [chordal_flag_mean] + [chordal_flag_median]\n",
    "\n",
    "D = chordal_dist_mat(all_data, flag_type)\n",
    "\n",
    "embedding = MDS(n_components=2, dissimilarity='precomputed')\n",
    "embedded_data = embedding.fit_transform(D)"
   ]
  },
  {
   "cell_type": "code",
   "execution_count": 29,
   "metadata": {},
   "outputs": [
    {
     "data": {
      "text/plain": [
       "Text(0, 0.5, 'MDS 2')"
      ]
     },
     "execution_count": 29,
     "metadata": {},
     "output_type": "execute_result"
    },
    {
     "data": {
      "image/png": "[encoded data removed]",
      "text/plain": [
       "<Figure size 432x288 with 1 Axes>"
      ]
     },
     "metadata": {
      "needs_background": "light"
     },
     "output_type": "display_data"
    }
   ],
   "source": [
    "#plot the result\n",
    "plt.scatter(embedded_data[:n_pts,0], embedded_data[:n_pts,1],  color = 'k', marker = 'x', label = 'Data')\n",
    "plt.scatter(embedded_data[n_pts:n_pts+1,0], embedded_data[n_pts:n_pts+1,1], marker = '^',label = 'FL-Mean')\n",
    "plt.scatter(embedded_data[n_pts+1:n_pts+2,0], embedded_data[n_pts+1:n_pts+2,1],label = 'FL-Median')\n",
    "plt.legend()\n",
    "plt.xlabel('MDS 1')\n",
    "plt.ylabel('MDS 2')"
   ]
  },
  {
   "cell_type": "code",
   "execution_count": null,
   "metadata": {},
   "outputs": [],
   "source": []
  }
 ],
 "metadata": {
  "kernelspec": {
   "display_name": "Python 3",
   "language": "python",
   "name": "python3"
  },
  "language_info": {
   "codemirror_mode": {
    "name": "ipython",
    "version": 3
   },
   "file_extension": ".py",
   "mimetype": "text/x-python",
   "name": "python",
   "nbconvert_exporter": "python",
   "pygments_lexer": "ipython3",
   "version": "3.8.9"
  },
  "orig_nbformat": 4
 },
 "nbformat": 4,
 "nbformat_minor": 2
}
